{
 "cells": [
  {
   "cell_type": "markdown",
   "id": "26a03f72-d45d-4016-b122-ec7c160668d0",
   "metadata": {},
   "source": [
    "# Veri Bilimi İçin İstatistik"
   ]
  },
  {
   "cell_type": "code",
   "execution_count": 2,
   "id": "b86a8dd5-a051-4fcf-aa38-8340c19d9fcb",
   "metadata": {},
   "outputs": [],
   "source": [
    "import numpy as np "
   ]
  },
  {
   "cell_type": "code",
   "execution_count": 4,
   "id": "49e860f5-c946-45c6-9204-7199699b7599",
   "metadata": {},
   "outputs": [],
   "source": [
    "population = np.random.randint(0,80,10000) "
   ]
  },
  {
   "cell_type": "code",
   "execution_count": 11,
   "id": "1ecf89f6-e0b7-4d9d-b6fe-0c5c483ca2a9",
   "metadata": {},
   "outputs": [
    {
     "data": {
      "text/plain": [
       "array([58, 70, 51,  4, 63, 51, 60, 73, 36, 46])"
      ]
     },
     "execution_count": 11,
     "metadata": {},
     "output_type": "execute_result"
    }
   ],
   "source": [
    "population[0:10]"
   ]
  },
  {
   "cell_type": "markdown",
   "id": "eb75c5bd-5612-4342-a478-b753ffd2b1fd",
   "metadata": {},
   "source": [
    "## Örneklem çekmek"
   ]
  },
  {
   "cell_type": "code",
   "execution_count": 38,
   "id": "c62f1101-bafe-4bcd-bd21-535fc001595a",
   "metadata": {},
   "outputs": [
    {
     "data": {
      "text/plain": [
       "array([ 6, 21,  9, 24,  2, 53, 33, 36, 37, 46])"
      ]
     },
     "execution_count": 38,
     "metadata": {},
     "output_type": "execute_result"
    }
   ],
   "source": [
    "np.random.seed(115)\n",
    "sample = np.random.choice(a = population,size = 100)\n",
    "sample[0:10]"
   ]
  },
  {
   "cell_type": "code",
   "execution_count": 40,
   "id": "2773882e-0e03-463c-adb6-5c917d361bb1",
   "metadata": {},
   "outputs": [
    {
     "data": {
      "text/plain": [
       "38.78"
      ]
     },
     "execution_count": 40,
     "metadata": {},
     "output_type": "execute_result"
    }
   ],
   "source": [
    "sample.mean()"
   ]
  },
  {
   "cell_type": "code",
   "execution_count": 42,
   "id": "cad16069-5679-4a93-92bf-07c9062940bf",
   "metadata": {},
   "outputs": [
    {
     "data": {
      "text/plain": [
       "38.9746"
      ]
     },
     "execution_count": 42,
     "metadata": {},
     "output_type": "execute_result"
    }
   ],
   "source": [
    "population.mean()"
   ]
  },
  {
   "cell_type": "markdown",
   "id": "ead5cc27-bcad-4f12-ab2f-f791233eeb8d",
   "metadata": {},
   "source": [
    "## Örneklem Dağılımı"
   ]
  },
  {
   "cell_type": "code",
   "execution_count": 45,
   "id": "92db296b-9464-4691-90ee-cc70ade04486",
   "metadata": {},
   "outputs": [],
   "source": [
    "sample1=np.random.choice(a = population, size = 100)\n",
    "sample2=np.random.choice(a = population, size = 100)\n",
    "sample3=np.random.choice(a = population, size = 100)\n",
    "sample4=np.random.choice(a = population, size = 100)\n",
    "sample5=np.random.choice(a = population, size = 100)\n",
    "sample6=np.random.choice(a = population, size = 100)\n",
    "sample7=np.random.choice(a = population, size = 100)\n",
    "sample8=np.random.choice(a = population, size = 100)\n",
    "sample9=np.random.choice(a = population, size = 100)\n",
    "sample10=np.random.choice(a = population, size = 100)\n"
   ]
  },
  {
   "cell_type": "code",
   "execution_count": 53,
   "id": "7c1dd080-7566-4a07-b44b-04112df1cb53",
   "metadata": {},
   "outputs": [
    {
     "data": {
      "text/plain": [
       "42.06"
      ]
     },
     "execution_count": 53,
     "metadata": {},
     "output_type": "execute_result"
    }
   ],
   "source": [
    "(sample1.mean()+sample2.mean()+sample3.mean()+\n",
    " sample4.mean()+sample5.mean()+sample6.mean()+\n",
    " sample7.mean()+sample8.mean()+sample9.mean()+\n",
    " sample10.mean()+sample11.mean())/10\n"
   ]
  },
  {
   "cell_type": "code",
   "execution_count": 55,
   "id": "83b6e5ca-676e-4ea9-8553-f486d3bab527",
   "metadata": {},
   "outputs": [
    {
     "data": {
      "text/plain": [
       "38.41"
      ]
     },
     "execution_count": 55,
     "metadata": {},
     "output_type": "execute_result"
    }
   ],
   "source": [
    "sample1.mean()"
   ]
  },
  {
   "cell_type": "code",
   "execution_count": 57,
   "id": "f7411b85-b25a-410e-af27-95c0ab544e8d",
   "metadata": {},
   "outputs": [
    {
     "data": {
      "text/plain": [
       "38.98"
      ]
     },
     "execution_count": 57,
     "metadata": {},
     "output_type": "execute_result"
    }
   ],
   "source": [
    "sample2.mean()"
   ]
  },
  {
   "cell_type": "markdown",
   "id": "4142e7bc-56cf-4fc8-8873-5a1f9f5f7d08",
   "metadata": {},
   "source": [
    "## Betimsel İstatistik"
   ]
  },
  {
   "cell_type": "code",
   "execution_count": 3,
   "id": "defd1ec4-4c10-4268-b016-46a0cc62d4b0",
   "metadata": {},
   "outputs": [
    {
     "data": {
      "text/html": [
       "<div>\n",
       "<style scoped>\n",
       "    .dataframe tbody tr th:only-of-type {\n",
       "        vertical-align: middle;\n",
       "    }\n",
       "\n",
       "    .dataframe tbody tr th {\n",
       "        vertical-align: top;\n",
       "    }\n",
       "\n",
       "    .dataframe thead th {\n",
       "        text-align: right;\n",
       "    }\n",
       "</style>\n",
       "<table border=\"1\" class=\"dataframe\">\n",
       "  <thead>\n",
       "    <tr style=\"text-align: right;\">\n",
       "      <th></th>\n",
       "      <th>total_bill</th>\n",
       "      <th>tip</th>\n",
       "      <th>sex</th>\n",
       "      <th>smoker</th>\n",
       "      <th>day</th>\n",
       "      <th>time</th>\n",
       "      <th>size</th>\n",
       "    </tr>\n",
       "  </thead>\n",
       "  <tbody>\n",
       "    <tr>\n",
       "      <th>0</th>\n",
       "      <td>16.99</td>\n",
       "      <td>1.01</td>\n",
       "      <td>Female</td>\n",
       "      <td>No</td>\n",
       "      <td>Sun</td>\n",
       "      <td>Dinner</td>\n",
       "      <td>2</td>\n",
       "    </tr>\n",
       "    <tr>\n",
       "      <th>1</th>\n",
       "      <td>10.34</td>\n",
       "      <td>1.66</td>\n",
       "      <td>Male</td>\n",
       "      <td>No</td>\n",
       "      <td>Sun</td>\n",
       "      <td>Dinner</td>\n",
       "      <td>3</td>\n",
       "    </tr>\n",
       "    <tr>\n",
       "      <th>2</th>\n",
       "      <td>21.01</td>\n",
       "      <td>3.50</td>\n",
       "      <td>Male</td>\n",
       "      <td>No</td>\n",
       "      <td>Sun</td>\n",
       "      <td>Dinner</td>\n",
       "      <td>3</td>\n",
       "    </tr>\n",
       "    <tr>\n",
       "      <th>3</th>\n",
       "      <td>23.68</td>\n",
       "      <td>3.31</td>\n",
       "      <td>Male</td>\n",
       "      <td>No</td>\n",
       "      <td>Sun</td>\n",
       "      <td>Dinner</td>\n",
       "      <td>2</td>\n",
       "    </tr>\n",
       "    <tr>\n",
       "      <th>4</th>\n",
       "      <td>24.59</td>\n",
       "      <td>3.61</td>\n",
       "      <td>Female</td>\n",
       "      <td>No</td>\n",
       "      <td>Sun</td>\n",
       "      <td>Dinner</td>\n",
       "      <td>4</td>\n",
       "    </tr>\n",
       "  </tbody>\n",
       "</table>\n",
       "</div>"
      ],
      "text/plain": [
       "   total_bill   tip     sex smoker  day    time  size\n",
       "0       16.99  1.01  Female     No  Sun  Dinner     2\n",
       "1       10.34  1.66    Male     No  Sun  Dinner     3\n",
       "2       21.01  3.50    Male     No  Sun  Dinner     3\n",
       "3       23.68  3.31    Male     No  Sun  Dinner     2\n",
       "4       24.59  3.61  Female     No  Sun  Dinner     4"
      ]
     },
     "execution_count": 3,
     "metadata": {},
     "output_type": "execute_result"
    }
   ],
   "source": [
    "import seaborn as sns\n",
    "tips = sns.load_dataset(\"tips\")\n",
    "tips.head()"
   ]
  },
  {
   "cell_type": "code",
   "execution_count": 5,
   "id": "1c23da09-76a2-4d78-816e-515383923801",
   "metadata": {},
   "outputs": [
    {
     "data": {
      "text/html": [
       "<div>\n",
       "<style scoped>\n",
       "    .dataframe tbody tr th:only-of-type {\n",
       "        vertical-align: middle;\n",
       "    }\n",
       "\n",
       "    .dataframe tbody tr th {\n",
       "        vertical-align: top;\n",
       "    }\n",
       "\n",
       "    .dataframe thead th {\n",
       "        text-align: right;\n",
       "    }\n",
       "</style>\n",
       "<table border=\"1\" class=\"dataframe\">\n",
       "  <thead>\n",
       "    <tr style=\"text-align: right;\">\n",
       "      <th></th>\n",
       "      <th>count</th>\n",
       "      <th>mean</th>\n",
       "      <th>std</th>\n",
       "      <th>min</th>\n",
       "      <th>25%</th>\n",
       "      <th>50%</th>\n",
       "      <th>75%</th>\n",
       "      <th>max</th>\n",
       "    </tr>\n",
       "  </thead>\n",
       "  <tbody>\n",
       "    <tr>\n",
       "      <th>total_bill</th>\n",
       "      <td>244.0</td>\n",
       "      <td>19.785943</td>\n",
       "      <td>8.902412</td>\n",
       "      <td>3.07</td>\n",
       "      <td>13.3475</td>\n",
       "      <td>17.795</td>\n",
       "      <td>24.1275</td>\n",
       "      <td>50.81</td>\n",
       "    </tr>\n",
       "    <tr>\n",
       "      <th>tip</th>\n",
       "      <td>244.0</td>\n",
       "      <td>2.998279</td>\n",
       "      <td>1.383638</td>\n",
       "      <td>1.00</td>\n",
       "      <td>2.0000</td>\n",
       "      <td>2.900</td>\n",
       "      <td>3.5625</td>\n",
       "      <td>10.00</td>\n",
       "    </tr>\n",
       "    <tr>\n",
       "      <th>size</th>\n",
       "      <td>244.0</td>\n",
       "      <td>2.569672</td>\n",
       "      <td>0.951100</td>\n",
       "      <td>1.00</td>\n",
       "      <td>2.0000</td>\n",
       "      <td>2.000</td>\n",
       "      <td>3.0000</td>\n",
       "      <td>6.00</td>\n",
       "    </tr>\n",
       "  </tbody>\n",
       "</table>\n",
       "</div>"
      ],
      "text/plain": [
       "            count       mean       std   min      25%     50%      75%    max\n",
       "total_bill  244.0  19.785943  8.902412  3.07  13.3475  17.795  24.1275  50.81\n",
       "tip         244.0   2.998279  1.383638  1.00   2.0000   2.900   3.5625  10.00\n",
       "size        244.0   2.569672  0.951100  1.00   2.0000   2.000   3.0000   6.00"
      ]
     },
     "execution_count": 5,
     "metadata": {},
     "output_type": "execute_result"
    }
   ],
   "source": [
    "tips.describe().T"
   ]
  },
  {
   "cell_type": "code",
   "execution_count": 7,
   "id": "cd8e0a71-f9ee-4a25-b62c-ed236c0a69af",
   "metadata": {},
   "outputs": [
    {
     "name": "stdout",
     "output_type": "stream",
     "text": [
      "Collecting researchpy\n",
      "  Downloading researchpy-0.3.6-py3-none-any.whl.metadata (1.2 kB)\n",
      "Requirement already satisfied: scipy in c:\\users\\iremb\\anaconda3\\lib\\site-packages (from researchpy) (1.14.0)\n",
      "Requirement already satisfied: numpy in c:\\users\\iremb\\anaconda3\\lib\\site-packages (from researchpy) (1.26.4)\n",
      "Requirement already satisfied: pandas in c:\\users\\iremb\\anaconda3\\lib\\site-packages (from researchpy) (2.1.4)\n",
      "Requirement already satisfied: statsmodels in c:\\users\\iremb\\anaconda3\\lib\\site-packages (from researchpy) (0.14.2)\n",
      "Requirement already satisfied: patsy in c:\\users\\iremb\\anaconda3\\lib\\site-packages (from researchpy) (0.5.6)\n",
      "Requirement already satisfied: python-dateutil>=2.8.2 in c:\\users\\iremb\\anaconda3\\lib\\site-packages (from pandas->researchpy) (2.8.2)\n",
      "Requirement already satisfied: pytz>=2020.1 in c:\\users\\iremb\\anaconda3\\lib\\site-packages (from pandas->researchpy) (2023.3.post1)\n",
      "Requirement already satisfied: tzdata>=2022.1 in c:\\users\\iremb\\anaconda3\\lib\\site-packages (from pandas->researchpy) (2023.3)\n",
      "Requirement already satisfied: six in c:\\users\\iremb\\anaconda3\\lib\\site-packages (from patsy->researchpy) (1.16.0)\n",
      "Requirement already satisfied: packaging>=21.3 in c:\\users\\iremb\\anaconda3\\lib\\site-packages (from statsmodels->researchpy) (23.1)\n",
      "Downloading researchpy-0.3.6-py3-none-any.whl (34 kB)\n",
      "Installing collected packages: researchpy\n",
      "Successfully installed researchpy-0.3.6\n"
     ]
    }
   ],
   "source": [
    "!pip install researchpy\n",
    "import researchpy as rp"
   ]
  },
  {
   "cell_type": "code",
   "execution_count": 15,
   "id": "5d8f1542-c052-4d71-802c-d9514e0fdb51",
   "metadata": {},
   "outputs": [
    {
     "name": "stdout",
     "output_type": "stream",
     "text": [
      "\n",
      "\n"
     ]
    },
    {
     "name": "stderr",
     "output_type": "stream",
     "text": [
      "C:\\Users\\iremb\\anaconda3\\Lib\\site-packages\\researchpy\\summary.py:102: FutureWarning: Setting an item of incompatible dtype is deprecated and will raise in a future error of pandas. Value 'total_bill' has dtype incompatible with float64, please explicitly cast to a compatible dtype first.\n",
      "  table_a.iloc[0,0] = ix\n",
      "C:\\Users\\iremb\\anaconda3\\Lib\\site-packages\\researchpy\\summary.py:102: FutureWarning: Setting an item of incompatible dtype is deprecated and will raise in a future error of pandas. Value 'tip' has dtype incompatible with float64, please explicitly cast to a compatible dtype first.\n",
      "  table_a.iloc[0,0] = ix\n",
      "C:\\Users\\iremb\\anaconda3\\Lib\\site-packages\\researchpy\\summary.py:102: FutureWarning: Setting an item of incompatible dtype is deprecated and will raise in a future error of pandas. Value 'size' has dtype incompatible with float64, please explicitly cast to a compatible dtype first.\n",
      "  table_a.iloc[0,0] = ix\n"
     ]
    },
    {
     "data": {
      "text/html": [
       "<div>\n",
       "<style scoped>\n",
       "    .dataframe tbody tr th:only-of-type {\n",
       "        vertical-align: middle;\n",
       "    }\n",
       "\n",
       "    .dataframe tbody tr th {\n",
       "        vertical-align: top;\n",
       "    }\n",
       "\n",
       "    .dataframe thead th {\n",
       "        text-align: right;\n",
       "    }\n",
       "</style>\n",
       "<table border=\"1\" class=\"dataframe\">\n",
       "  <thead>\n",
       "    <tr style=\"text-align: right;\">\n",
       "      <th></th>\n",
       "      <th>Variable</th>\n",
       "      <th>N</th>\n",
       "      <th>Mean</th>\n",
       "      <th>SD</th>\n",
       "      <th>SE</th>\n",
       "      <th>95% Conf.</th>\n",
       "      <th>Interval</th>\n",
       "    </tr>\n",
       "  </thead>\n",
       "  <tbody>\n",
       "    <tr>\n",
       "      <th>0</th>\n",
       "      <td>total_bill</td>\n",
       "      <td>244.0</td>\n",
       "      <td>19.7859</td>\n",
       "      <td>8.9024</td>\n",
       "      <td>0.5699</td>\n",
       "      <td>18.6633</td>\n",
       "      <td>20.9086</td>\n",
       "    </tr>\n",
       "    <tr>\n",
       "      <th>1</th>\n",
       "      <td>tip</td>\n",
       "      <td>244.0</td>\n",
       "      <td>2.9983</td>\n",
       "      <td>1.3836</td>\n",
       "      <td>0.0886</td>\n",
       "      <td>2.8238</td>\n",
       "      <td>3.1728</td>\n",
       "    </tr>\n",
       "    <tr>\n",
       "      <th>2</th>\n",
       "      <td>size</td>\n",
       "      <td>244.0</td>\n",
       "      <td>2.5697</td>\n",
       "      <td>0.9511</td>\n",
       "      <td>0.0609</td>\n",
       "      <td>2.4497</td>\n",
       "      <td>2.6896</td>\n",
       "    </tr>\n",
       "  </tbody>\n",
       "</table>\n",
       "</div>"
      ],
      "text/plain": [
       "     Variable      N     Mean      SD      SE  95% Conf.  Interval\n",
       "0  total_bill  244.0  19.7859  8.9024  0.5699    18.6633   20.9086\n",
       "1         tip  244.0   2.9983  1.3836  0.0886     2.8238    3.1728\n",
       "2        size  244.0   2.5697  0.9511  0.0609     2.4497    2.6896"
      ]
     },
     "execution_count": 15,
     "metadata": {},
     "output_type": "execute_result"
    }
   ],
   "source": [
    "#sayısal değişkenler için betimsel istatistikler\n",
    "rp.summary_cont(tips[[\"total_bill\",\"tip\",\"size\"]])"
   ]
  },
  {
   "cell_type": "markdown",
   "id": "436a3753-8be7-4120-919b-304592025f5a",
   "metadata": {},
   "source": [
    "#kategorik değişkenler için betimsel istatistikler\n",
    "rp.summary_cat(tips[[\"sex\",\"smoker\",\"day\"]])"
   ]
  },
  {
   "cell_type": "code",
   "execution_count": 19,
   "id": "d5c6b538-1783-40b5-97eb-64ce49b63e22",
   "metadata": {},
   "outputs": [
    {
     "data": {
      "text/html": [
       "<div>\n",
       "<style scoped>\n",
       "    .dataframe tbody tr th:only-of-type {\n",
       "        vertical-align: middle;\n",
       "    }\n",
       "\n",
       "    .dataframe tbody tr th {\n",
       "        vertical-align: top;\n",
       "    }\n",
       "\n",
       "    .dataframe thead th {\n",
       "        text-align: right;\n",
       "    }\n",
       "</style>\n",
       "<table border=\"1\" class=\"dataframe\">\n",
       "  <thead>\n",
       "    <tr style=\"text-align: right;\">\n",
       "      <th></th>\n",
       "      <th>tip</th>\n",
       "      <th>total_bill</th>\n",
       "    </tr>\n",
       "  </thead>\n",
       "  <tbody>\n",
       "    <tr>\n",
       "      <th>tip</th>\n",
       "      <td>1.914455</td>\n",
       "      <td>8.323502</td>\n",
       "    </tr>\n",
       "    <tr>\n",
       "      <th>total_bill</th>\n",
       "      <td>8.323502</td>\n",
       "      <td>79.252939</td>\n",
       "    </tr>\n",
       "  </tbody>\n",
       "</table>\n",
       "</div>"
      ],
      "text/plain": [
       "                 tip  total_bill\n",
       "tip         1.914455    8.323502\n",
       "total_bill  8.323502   79.252939"
      ]
     },
     "execution_count": 19,
     "metadata": {},
     "output_type": "execute_result"
    }
   ],
   "source": [
    "tips[[\"tip\",\"total_bill\"]].cov()"
   ]
  },
  {
   "cell_type": "code",
   "execution_count": 21,
   "id": "dfd056bf-a416-4aa5-8f41-f6c9bfb88d70",
   "metadata": {},
   "outputs": [
    {
     "data": {
      "text/html": [
       "<div>\n",
       "<style scoped>\n",
       "    .dataframe tbody tr th:only-of-type {\n",
       "        vertical-align: middle;\n",
       "    }\n",
       "\n",
       "    .dataframe tbody tr th {\n",
       "        vertical-align: top;\n",
       "    }\n",
       "\n",
       "    .dataframe thead th {\n",
       "        text-align: right;\n",
       "    }\n",
       "</style>\n",
       "<table border=\"1\" class=\"dataframe\">\n",
       "  <thead>\n",
       "    <tr style=\"text-align: right;\">\n",
       "      <th></th>\n",
       "      <th>tip</th>\n",
       "      <th>total_bill</th>\n",
       "    </tr>\n",
       "  </thead>\n",
       "  <tbody>\n",
       "    <tr>\n",
       "      <th>tip</th>\n",
       "      <td>1.000000</td>\n",
       "      <td>0.675734</td>\n",
       "    </tr>\n",
       "    <tr>\n",
       "      <th>total_bill</th>\n",
       "      <td>0.675734</td>\n",
       "      <td>1.000000</td>\n",
       "    </tr>\n",
       "  </tbody>\n",
       "</table>\n",
       "</div>"
      ],
      "text/plain": [
       "                 tip  total_bill\n",
       "tip         1.000000    0.675734\n",
       "total_bill  0.675734    1.000000"
      ]
     },
     "execution_count": 21,
     "metadata": {},
     "output_type": "execute_result"
    }
   ],
   "source": [
    "tips[[\"tip\",\"total_bill\"]].corr()"
   ]
  },
  {
   "cell_type": "markdown",
   "id": "cbd41092-ac3f-4200-b6d4-6dcc92588fe3",
   "metadata": {},
   "source": [
    "# İş Uygulaması: Fiyat Stratejisi Karar Destek"
   ]
  },
  {
   "cell_type": "markdown",
   "id": "3d2c9750-8090-4424-b094-5c1ca6a6ea8b",
   "metadata": {},
   "source": [
    "<h5> problem: </h5>\n",
    "     CEO fiyat belirleme konusunda bilimsel bir dayanak ve esneklik isteniyor\n",
    "<h5> Detaylar: </h5>\n",
    "<ol> <li>Satıcı, alıcı ve bir ürün var.  </li>\n",
    "    <li>Alıcılara ürüne ne kadar ücret öderdiniz diye soruluyor </li>\n",
    "    <li>Optimum fiyat bilimsel ve esnek olarak bulunmak isteniyor.</li>\n",
    "     </ol>"
   ]
  },
  {
   "cell_type": "code",
   "execution_count": 7,
   "id": "bfb5f0c6-7887-4fb1-9eca-11d075e7e25f",
   "metadata": {},
   "outputs": [],
   "source": [
    "import numpy as np\n",
    "fiyatlar = np.random.randint(10,110,1000)"
   ]
  },
  {
   "cell_type": "code",
   "execution_count": 9,
   "id": "848d3d5f-4a2b-4310-a2a6-aa3f6acbee4b",
   "metadata": {},
   "outputs": [
    {
     "data": {
      "text/plain": [
       "59.62"
      ]
     },
     "execution_count": 9,
     "metadata": {},
     "output_type": "execute_result"
    }
   ],
   "source": [
    "fiyatlar.mean()"
   ]
  },
  {
   "cell_type": "code",
   "execution_count": 11,
   "id": "ad05875d-a2c8-4234-a8d6-24c2fd85edd0",
   "metadata": {},
   "outputs": [],
   "source": [
    "import statsmodels.stats.api as sms"
   ]
  },
  {
   "cell_type": "code",
   "execution_count": 13,
   "id": "e221f746-1978-484b-8a60-afd786a66de6",
   "metadata": {},
   "outputs": [
    {
     "data": {
      "text/plain": [
       "(57.803505038952906, 61.43649496104709)"
      ]
     },
     "execution_count": 13,
     "metadata": {},
     "output_type": "execute_result"
    }
   ],
   "source": [
    "sms.DescrStatsW(fiyatlar).tconfint_mean()"
   ]
  },
  {
   "cell_type": "markdown",
   "id": "72774916-5a40-4f7d-89b8-a106f76ca4b8",
   "metadata": {},
   "source": [
    "###### Bu ürüne biçilebilecek fiyat %95 doğruluk payı ile 58 ile 62 arasındadır. kullanılıların yalnızca %5i bu aralık dışında fiyat vermektedir. "
   ]
  },
  {
   "cell_type": "markdown",
   "id": "d73aabc2-a91a-486b-ab66-da828e290024",
   "metadata": {},
   "source": [
    "# Olasılık Dağılımları"
   ]
  },
  {
   "cell_type": "markdown",
   "id": "99f8e72b-817b-4390-8723-08d218212fbc",
   "metadata": {},
   "source": [
    "## Bernoulli Dağılımı"
   ]
  },
  {
   "cell_type": "markdown",
   "id": "01db861c-7b19-487b-b4b3-afa17dc866b7",
   "metadata": {},
   "source": [
    "${\\displaystyle f(k;p)=p^{k}(1-p)^{1-k}\\quad {\\text{for }}k\\in \\{0,1\\}}$\n",
    "\n",
    "\n",
    "${\\displaystyle \\operatorname {E} \\left(X\\right)=p}$\n",
    "\n",
    "$\\operatorname {Var} [X]=pq=p(1-p)$"
   ]
  },
  {
   "cell_type": "code",
   "execution_count": 19,
   "id": "9112a15d-ec6b-42a6-a1f7-f08c39cd410d",
   "metadata": {},
   "outputs": [],
   "source": [
    "from scipy.stats import bernoulli"
   ]
  },
  {
   "cell_type": "code",
   "execution_count": 21,
   "id": "53a635d7-4530-4301-8a9a-05f43a95babe",
   "metadata": {},
   "outputs": [],
   "source": [
    "p = 0.6 #tura gelme olasılığı "
   ]
  },
  {
   "cell_type": "code",
   "execution_count": 23,
   "id": "15ba0373-0556-4b75-b253-7c60c3187474",
   "metadata": {},
   "outputs": [
    {
     "data": {
      "text/plain": [
       "0.4000000000000001"
      ]
     },
     "execution_count": 23,
     "metadata": {},
     "output_type": "execute_result"
    }
   ],
   "source": [
    "rv = bernoulli(p)\n",
    "rv.pmf(k = 0) #0 yazı gelme olasılığını 1 ise tura gelme olasılığını hesaplar."
   ]
  },
  {
   "cell_type": "code",
   "execution_count": null,
   "id": "0f5cc711-f557-45e3-bc90-d38ae2627397",
   "metadata": {},
   "outputs": [],
   "source": []
  }
 ],
 "metadata": {
  "kernelspec": {
   "display_name": "Python 3 (ipykernel)",
   "language": "python",
   "name": "python3"
  },
  "language_info": {
   "codemirror_mode": {
    "name": "ipython",
    "version": 3
   },
   "file_extension": ".py",
   "mimetype": "text/x-python",
   "name": "python",
   "nbconvert_exporter": "python",
   "pygments_lexer": "ipython3",
   "version": "3.11.7"
  }
 },
 "nbformat": 4,
 "nbformat_minor": 5
}
