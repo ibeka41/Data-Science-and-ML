{
 "cells": [
  {
   "cell_type": "markdown",
   "id": "26a03f72-d45d-4016-b122-ec7c160668d0",
   "metadata": {},
   "source": [
    "# Veri Bilimi İçin İstatistik"
   ]
  },
  {
   "cell_type": "code",
   "execution_count": 2,
   "id": "b86a8dd5-a051-4fcf-aa38-8340c19d9fcb",
   "metadata": {},
   "outputs": [],
   "source": [
    "import numpy as np "
   ]
  },
  {
   "cell_type": "code",
   "execution_count": 4,
   "id": "49e860f5-c946-45c6-9204-7199699b7599",
   "metadata": {},
   "outputs": [],
   "source": [
    "population = np.random.randint(0,80,10000) "
   ]
  },
  {
   "cell_type": "code",
   "execution_count": 11,
   "id": "1ecf89f6-e0b7-4d9d-b6fe-0c5c483ca2a9",
   "metadata": {},
   "outputs": [
    {
     "data": {
      "text/plain": [
       "array([58, 70, 51,  4, 63, 51, 60, 73, 36, 46])"
      ]
     },
     "execution_count": 11,
     "metadata": {},
     "output_type": "execute_result"
    }
   ],
   "source": [
    "population[0:10]"
   ]
  },
  {
   "cell_type": "markdown",
   "id": "eb75c5bd-5612-4342-a478-b753ffd2b1fd",
   "metadata": {},
   "source": [
    "## Örneklem çekmek"
   ]
  },
  {
   "cell_type": "code",
   "execution_count": 38,
   "id": "c62f1101-bafe-4bcd-bd21-535fc001595a",
   "metadata": {},
   "outputs": [
    {
     "data": {
      "text/plain": [
       "array([ 6, 21,  9, 24,  2, 53, 33, 36, 37, 46])"
      ]
     },
     "execution_count": 38,
     "metadata": {},
     "output_type": "execute_result"
    }
   ],
   "source": [
    "np.random.seed(115)\n",
    "sample = np.random.choice(a = population,size = 100)\n",
    "sample[0:10]"
   ]
  },
  {
   "cell_type": "code",
   "execution_count": 40,
   "id": "2773882e-0e03-463c-adb6-5c917d361bb1",
   "metadata": {},
   "outputs": [
    {
     "data": {
      "text/plain": [
       "38.78"
      ]
     },
     "execution_count": 40,
     "metadata": {},
     "output_type": "execute_result"
    }
   ],
   "source": [
    "sample.mean()"
   ]
  },
  {
   "cell_type": "code",
   "execution_count": 42,
   "id": "cad16069-5679-4a93-92bf-07c9062940bf",
   "metadata": {},
   "outputs": [
    {
     "data": {
      "text/plain": [
       "38.9746"
      ]
     },
     "execution_count": 42,
     "metadata": {},
     "output_type": "execute_result"
    }
   ],
   "source": [
    "population.mean()"
   ]
  },
  {
   "cell_type": "markdown",
   "id": "ead5cc27-bcad-4f12-ab2f-f791233eeb8d",
   "metadata": {},
   "source": [
    "## Örneklem Dağılımı"
   ]
  },
  {
   "cell_type": "code",
   "execution_count": 45,
   "id": "92db296b-9464-4691-90ee-cc70ade04486",
   "metadata": {},
   "outputs": [],
   "source": [
    "sample1=np.random.choice(a = population, size = 100)\n",
    "sample2=np.random.choice(a = population, size = 100)\n",
    "sample3=np.random.choice(a = population, size = 100)\n",
    "sample4=np.random.choice(a = population, size = 100)\n",
    "sample5=np.random.choice(a = population, size = 100)\n",
    "sample6=np.random.choice(a = population, size = 100)\n",
    "sample7=np.random.choice(a = population, size = 100)\n",
    "sample8=np.random.choice(a = population, size = 100)\n",
    "sample9=np.random.choice(a = population, size = 100)\n",
    "sample10=np.random.choice(a = population, size = 100)\n"
   ]
  },
  {
   "cell_type": "code",
   "execution_count": 53,
   "id": "7c1dd080-7566-4a07-b44b-04112df1cb53",
   "metadata": {},
   "outputs": [
    {
     "data": {
      "text/plain": [
       "42.06"
      ]
     },
     "execution_count": 53,
     "metadata": {},
     "output_type": "execute_result"
    }
   ],
   "source": [
    "(sample1.mean()+sample2.mean()+sample3.mean()+\n",
    " sample4.mean()+sample5.mean()+sample6.mean()+\n",
    " sample7.mean()+sample8.mean()+sample9.mean()+\n",
    " sample10.mean()+sample11.mean())/10\n"
   ]
  },
  {
   "cell_type": "code",
   "execution_count": 55,
   "id": "83b6e5ca-676e-4ea9-8553-f486d3bab527",
   "metadata": {},
   "outputs": [
    {
     "data": {
      "text/plain": [
       "38.41"
      ]
     },
     "execution_count": 55,
     "metadata": {},
     "output_type": "execute_result"
    }
   ],
   "source": [
    "sample1.mean()"
   ]
  },
  {
   "cell_type": "code",
   "execution_count": 57,
   "id": "f7411b85-b25a-410e-af27-95c0ab544e8d",
   "metadata": {},
   "outputs": [
    {
     "data": {
      "text/plain": [
       "38.98"
      ]
     },
     "execution_count": 57,
     "metadata": {},
     "output_type": "execute_result"
    }
   ],
   "source": [
    "sample2.mean()"
   ]
  },
  {
   "cell_type": "code",
   "execution_count": null,
   "id": "bbbd1695-d60a-4d11-a60b-6e9e5f30fa7c",
   "metadata": {},
   "outputs": [],
   "source": []
  },
  {
   "cell_type": "code",
   "execution_count": null,
   "id": "defd1ec4-4c10-4268-b016-46a0cc62d4b0",
   "metadata": {},
   "outputs": [],
   "source": []
  }
 ],
 "metadata": {
  "kernelspec": {
   "display_name": "Python 3 (ipykernel)",
   "language": "python",
   "name": "python3"
  },
  "language_info": {
   "codemirror_mode": {
    "name": "ipython",
    "version": 3
   },
   "file_extension": ".py",
   "mimetype": "text/x-python",
   "name": "python",
   "nbconvert_exporter": "python",
   "pygments_lexer": "ipython3",
   "version": "3.11.7"
  }
 },
 "nbformat": 4,
 "nbformat_minor": 5
}
